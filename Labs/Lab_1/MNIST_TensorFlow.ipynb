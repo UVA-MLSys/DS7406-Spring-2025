{
 "cells": [
  {
   "cell_type": "code",
   "execution_count": 5,
   "metadata": {},
   "outputs": [],
   "source": [
    "# Load necessary libraries\n",
    "import numpy as np\n",
    "import matplotlib.pyplot as plt\n",
    "\n",
    "import tensorflow as tf\n",
    "import tensorflow_datasets as tfds\n",
    "tfds.disable_progress_bar()\n",
    "\n",
    "import warnings\n",
    "warnings.filterwarnings('ignore')\n",
    "\n",
    "%matplotlib inline\n",
    "%config InlineBackend.figure_format = 'retina'\n",
    "\n",
    "import logging\n",
    "logger = tf.get_logger()\n",
    "logger.setLevel(logging.ERROR)"
   ]
  },
  {
   "cell_type": "code",
   "execution_count": 7,
   "metadata": {},
   "outputs": [
    {
     "name": "stdout",
     "output_type": "stream",
     "text": [
      "\u001b[1mDownloading and preparing dataset Unknown size (download: Unknown size, generated: Unknown size, total: Unknown size) to ~/tensorflow_datasets/mnist/3.0.1...\u001b[0m\n",
      "\u001b[1mDataset mnist downloaded and prepared to ~/tensorflow_datasets/mnist/3.0.1. Subsequent calls will reuse this data.\u001b[0m\n"
     ]
    }
   ],
   "source": [
    "# Download the MNIST dataset\n",
    "training_set, dataset_info = tfds.load('mnist', split='train', as_supervised = True, with_info = True)\n",
    "testing_set = tfds.load('mnist', split='test', as_supervised = True, with_info = False)"
   ]
  },
  {
   "cell_type": "code",
   "execution_count": 8,
   "metadata": {},
   "outputs": [],
   "source": [
    "# Splid the training/test sets\n",
    "num_training_examples = dataset_info.splits['train'].num_examples\n",
    "num_testing_examples = dataset_info.splits['test'].num_examples"
   ]
  },
  {
   "cell_type": "code",
   "execution_count": 9,
   "metadata": {},
   "outputs": [],
   "source": [
    "# Pipeline of transformation\n",
    "def normalize(image, label):\n",
    "    image = tf.cast(image, tf.float32)\n",
    "    image /= 255\n",
    "    return image, label\n",
    "\n",
    "num_training_examples = dataset_info.splits['train'].num_examples\n",
    "\n",
    "batch_size = 64\n",
    "\n",
    "training_batches = training_set.cache().shuffle(num_training_examples//4).batch(batch_size).map(normalize).prefetch(1)\n",
    "testing_batches = testing_set.cache().shuffle(num_testing_examples//4).batch(batch_size).map(normalize).prefetch(1)"
   ]
  },
  {
   "cell_type": "code",
   "execution_count": 10,
   "metadata": {},
   "outputs": [
    {
     "data": {
      "image/png": "[encoded data removed]",
      "text/plain": [
       "<Figure size 432x288 with 2 Axes>"
      ]
     },
     "metadata": {
      "image/png": {
       "height": 248,
       "width": 305
      },
      "needs_background": "light"
     },
     "output_type": "display_data"
    },
    {
     "name": "stdout",
     "output_type": "stream",
     "text": [
      "The label of this image is: 4\n"
     ]
    }
   ],
   "source": [
    "# Select and visualize a batch of training data.\n",
    "for image, label in training_set.take(1):\n",
    "    image = image.numpy().squeeze()\n",
    "    label = label.numpy()\n",
    "    \n",
    "# Plot the image\n",
    "plt.imshow(image, cmap = plt.cm.binary)\n",
    "plt.colorbar()\n",
    "plt.show()\n",
    "\n",
    "# Print the label to check if consistent and correct\n",
    "print('The label of this image is:', label)"
   ]
  },
  {
   "cell_type": "code",
   "execution_count": 11,
   "metadata": {},
   "outputs": [
    {
     "name": "stdout",
     "output_type": "stream",
     "text": [
      "Model: \"my__network\"\n",
      "_________________________________________________________________\n",
      " Layer (type)                Output Shape              Param #   \n",
      "=================================================================\n",
      " flatten (Flatten)           multiple                  0         \n",
      "                                                                 \n",
      " dense (Dense)               multiple                  100480    \n",
      "                                                                 \n",
      " dense_1 (Dense)             multiple                  8256      \n",
      "                                                                 \n",
      " dense_2 (Dense)             multiple                  650       \n",
      "                                                                 \n",
      "=================================================================\n",
      "Total params: 109,386\n",
      "Trainable params: 109,386\n",
      "Non-trainable params: 0\n",
      "_________________________________________________________________\n"
     ]
    }
   ],
   "source": [
    "# Approach 1: Write a class\n",
    "class My_Network(tf.keras.Model):\n",
    "    def __init__(self, num_classes = 10):\n",
    "        super().__init__()\n",
    "        self.num_classes = num_classes\n",
    "    \n",
    "        self.input_layer = tf.keras.layers.Flatten()\n",
    "        self.hidden_1 = tf.keras.layers.Dense(128, activation = 'relu')\n",
    "        self.hidden_2 = tf.keras.layers.Dense(64, activation = 'relu')\n",
    "        self.output_layer = tf.keras.layers.Dense(self.num_classes, activation = 'softmax')\n",
    "    \n",
    "    def call(self, input_tensor):\n",
    "        x = self.input_layer(input_tensor)\n",
    "        x = self.hidden_1(x)\n",
    "        x = self.hidden_2(x)\n",
    "        x = self.output_layer(x)\n",
    "    \n",
    "        return x\n",
    "\n",
    "my_model_2 = My_Network()\n",
    "\n",
    "my_model_2.build((None, 28, 28, 1))\n",
    "\n",
    "my_model_2.summary()"
   ]
  },
  {
   "cell_type": "code",
   "execution_count": 12,
   "metadata": {},
   "outputs": [],
   "source": [
    "# Clear all the backend sessions\n",
    "tf.keras.backend.clear_session()"
   ]
  },
  {
   "cell_type": "code",
   "execution_count": 13,
   "metadata": {},
   "outputs": [
    {
     "name": "stdout",
     "output_type": "stream",
     "text": [
      "Model: \"sequential\"\n",
      "_________________________________________________________________\n",
      " Layer (type)                Output Shape              Param #   \n",
      "=================================================================\n",
      " flatten (Flatten)           (None, 784)               0         \n",
      "                                                                 \n",
      " dense (Dense)               (None, 128)               100480    \n",
      "                                                                 \n",
      " dense_1 (Dense)             (None, 64)                8256      \n",
      "                                                                 \n",
      " dense_2 (Dense)             (None, 10)                650       \n",
      "                                                                 \n",
      "=================================================================\n",
      "Total params: 109,386\n",
      "Trainable params: 109,386\n",
      "Non-trainable params: 0\n",
      "_________________________________________________________________\n"
     ]
    }
   ],
   "source": [
    "# Approach 2: Use Sequential, should return with the same output as above\n",
    "model = tf.keras.Sequential([\n",
    "        tf.keras.layers.Flatten(input_shape = (28, 28, 1)),\n",
    "        tf.keras.layers.Dense(128, activation = 'relu'),\n",
    "        tf.keras.layers.Dense(64, activation = 'relu'),\n",
    "        tf.keras.layers.Dense(10, activation = 'softmax')\n",
    "])\n",
    "\n",
    "model.summary()"
   ]
  },
  {
   "cell_type": "code",
   "execution_count": 14,
   "metadata": {},
   "outputs": [],
   "source": [
    "# Specify the optimizer, loss function and metrics\n",
    "model.compile(optimizer='adam',\n",
    "              loss='sparse_categorical_crossentropy',\n",
    "              metrics=['accuracy'])"
   ]
  },
  {
   "cell_type": "code",
   "execution_count": 17,
   "metadata": {},
   "outputs": [
    {
     "name": "stdout",
     "output_type": "stream",
     "text": [
      "Epoch 1/100\n",
      "938/938 [==============================] - 1s 1ms/step - loss: 0.0346 - accuracy: 0.9887\n",
      "Epoch 2/100\n",
      "938/938 [==============================] - 1s 1ms/step - loss: 0.0294 - accuracy: 0.9905\n",
      "Epoch 3/100\n",
      "938/938 [==============================] - 1s 1ms/step - loss: 0.0247 - accuracy: 0.9918\n",
      "Epoch 4/100\n",
      "938/938 [==============================] - 1s 2ms/step - loss: 0.0201 - accuracy: 0.9933\n",
      "Epoch 5/100\n",
      "938/938 [==============================] - 1s 2ms/step - loss: 0.0166 - accuracy: 0.9946\n",
      "Epoch 6/100\n",
      "938/938 [==============================] - 1s 1ms/step - loss: 0.0155 - accuracy: 0.9947\n",
      "Epoch 7/100\n",
      "938/938 [==============================] - 1s 2ms/step - loss: 0.0151 - accuracy: 0.9948\n",
      "Epoch 8/100\n",
      "938/938 [==============================] - 1s 2ms/step - loss: 0.0142 - accuracy: 0.9952\n",
      "Epoch 9/100\n",
      "938/938 [==============================] - 1s 1ms/step - loss: 0.0090 - accuracy: 0.9969\n",
      "Epoch 10/100\n",
      "938/938 [==============================] - 1s 1ms/step - loss: 0.0122 - accuracy: 0.9961\n",
      "Epoch 11/100\n",
      "938/938 [==============================] - 1s 1ms/step - loss: 0.0085 - accuracy: 0.9974\n",
      "Epoch 12/100\n",
      "938/938 [==============================] - 1s 1ms/step - loss: 0.0084 - accuracy: 0.9975\n",
      "Epoch 13/100\n",
      "938/938 [==============================] - 1s 1ms/step - loss: 0.0120 - accuracy: 0.9960\n",
      "Epoch 14/100\n",
      "938/938 [==============================] - 1s 2ms/step - loss: 0.0067 - accuracy: 0.9978\n",
      "Epoch 15/100\n",
      "938/938 [==============================] - 1s 1ms/step - loss: 0.0105 - accuracy: 0.9963\n",
      "Epoch 16/100\n",
      "938/938 [==============================] - 1s 1ms/step - loss: 0.0076 - accuracy: 0.9973\n",
      "Epoch 17/100\n",
      "938/938 [==============================] - 1s 2ms/step - loss: 0.0092 - accuracy: 0.9969\n",
      "Epoch 18/100\n",
      "938/938 [==============================] - 1s 2ms/step - loss: 0.0070 - accuracy: 0.9976\n",
      "Epoch 19/100\n",
      "938/938 [==============================] - 1s 1ms/step - loss: 0.0041 - accuracy: 0.9987\n",
      "Epoch 20/100\n",
      "938/938 [==============================] - 1s 1ms/step - loss: 0.0086 - accuracy: 0.9972\n",
      "Epoch 21/100\n",
      "938/938 [==============================] - 1s 2ms/step - loss: 0.0054 - accuracy: 0.9983\n",
      "Epoch 22/100\n",
      "938/938 [==============================] - 1s 1ms/step - loss: 0.0076 - accuracy: 0.9975\n",
      "Epoch 23/100\n",
      "938/938 [==============================] - 1s 2ms/step - loss: 0.0075 - accuracy: 0.9977\n",
      "Epoch 24/100\n",
      "938/938 [==============================] - 1s 1ms/step - loss: 0.0062 - accuracy: 0.9978\n",
      "Epoch 25/100\n",
      "938/938 [==============================] - 1s 1ms/step - loss: 0.0038 - accuracy: 0.9988\n",
      "Epoch 26/100\n",
      "938/938 [==============================] - 1s 1ms/step - loss: 0.0072 - accuracy: 0.9977\n",
      "Epoch 27/100\n",
      "938/938 [==============================] - 1s 1ms/step - loss: 0.0076 - accuracy: 0.9975\n",
      "Epoch 28/100\n",
      "938/938 [==============================] - 1s 2ms/step - loss: 0.0071 - accuracy: 0.9977\n",
      "Epoch 29/100\n",
      "938/938 [==============================] - 1s 1ms/step - loss: 0.0038 - accuracy: 0.9989\n",
      "Epoch 30/100\n",
      "938/938 [==============================] - 1s 1ms/step - loss: 0.0054 - accuracy: 0.9981\n",
      "Epoch 31/100\n",
      "938/938 [==============================] - 1s 1ms/step - loss: 0.0063 - accuracy: 0.9979\n",
      "Epoch 32/100\n",
      "938/938 [==============================] - 1s 2ms/step - loss: 0.0052 - accuracy: 0.9982\n",
      "Epoch 33/100\n",
      "938/938 [==============================] - 1s 2ms/step - loss: 0.0064 - accuracy: 0.9980\n",
      "Epoch 34/100\n",
      "938/938 [==============================] - 1s 1ms/step - loss: 0.0049 - accuracy: 0.9984\n",
      "Epoch 35/100\n",
      "938/938 [==============================] - 1s 2ms/step - loss: 0.0041 - accuracy: 0.9987\n",
      "Epoch 36/100\n",
      "938/938 [==============================] - 1s 2ms/step - loss: 0.0051 - accuracy: 0.9984\n",
      "Epoch 37/100\n",
      "938/938 [==============================] - 1s 1ms/step - loss: 0.0053 - accuracy: 0.9982\n",
      "Epoch 38/100\n",
      "938/938 [==============================] - 1s 2ms/step - loss: 0.0082 - accuracy: 0.9976\n",
      "Epoch 39/100\n",
      "938/938 [==============================] - 1s 1ms/step - loss: 0.0032 - accuracy: 0.9991\n",
      "Epoch 40/100\n",
      "938/938 [==============================] - 1s 1ms/step - loss: 0.0048 - accuracy: 0.9985\n",
      "Epoch 41/100\n",
      "938/938 [==============================] - 1s 1ms/step - loss: 0.0035 - accuracy: 0.9989\n",
      "Epoch 42/100\n",
      "938/938 [==============================] - 1s 1ms/step - loss: 0.0072 - accuracy: 0.9977\n",
      "Epoch 43/100\n",
      "938/938 [==============================] - 1s 2ms/step - loss: 0.0044 - accuracy: 0.9984\n",
      "Epoch 44/100\n",
      "938/938 [==============================] - 1s 2ms/step - loss: 0.0021 - accuracy: 0.9994\n",
      "Epoch 45/100\n",
      "938/938 [==============================] - 1s 2ms/step - loss: 0.0083 - accuracy: 0.9976\n",
      "Epoch 46/100\n",
      "938/938 [==============================] - 1s 2ms/step - loss: 0.0024 - accuracy: 0.9993\n",
      "Epoch 47/100\n",
      "938/938 [==============================] - 1s 2ms/step - loss: 0.0063 - accuracy: 0.9980\n",
      "Epoch 48/100\n",
      "938/938 [==============================] - 1s 2ms/step - loss: 0.0017 - accuracy: 0.9995\n",
      "Epoch 49/100\n",
      "938/938 [==============================] - 1s 2ms/step - loss: 0.0069 - accuracy: 0.9980\n",
      "Epoch 50/100\n",
      "938/938 [==============================] - 1s 1ms/step - loss: 0.0044 - accuracy: 0.9988\n",
      "Epoch 51/100\n",
      "938/938 [==============================] - 1s 2ms/step - loss: 0.0014 - accuracy: 0.9995\n",
      "Epoch 52/100\n",
      "938/938 [==============================] - 1s 1ms/step - loss: 0.0065 - accuracy: 0.9981\n",
      "Epoch 53/100\n",
      "938/938 [==============================] - 1s 1ms/step - loss: 0.0031 - accuracy: 0.9990\n",
      "Epoch 54/100\n",
      "938/938 [==============================] - 1s 1ms/step - loss: 0.0041 - accuracy: 0.9987\n",
      "Epoch 55/100\n",
      "938/938 [==============================] - 1s 1ms/step - loss: 0.0055 - accuracy: 0.9984\n",
      "Epoch 56/100\n",
      "938/938 [==============================] - 1s 1ms/step - loss: 0.0027 - accuracy: 0.9992\n",
      "Epoch 57/100\n",
      "938/938 [==============================] - 1s 2ms/step - loss: 0.0040 - accuracy: 0.9989\n",
      "Epoch 58/100\n",
      "938/938 [==============================] - 1s 1ms/step - loss: 0.0037 - accuracy: 0.9988\n",
      "Epoch 59/100\n",
      "938/938 [==============================] - 1s 2ms/step - loss: 0.0062 - accuracy: 0.9984\n",
      "Epoch 60/100\n",
      "938/938 [==============================] - 1s 2ms/step - loss: 0.0017 - accuracy: 0.9994\n",
      "Epoch 61/100\n",
      "938/938 [==============================] - 1s 1ms/step - loss: 0.0059 - accuracy: 0.9982\n",
      "Epoch 62/100\n",
      "938/938 [==============================] - 1s 2ms/step - loss: 0.0039 - accuracy: 0.9990\n",
      "Epoch 63/100\n",
      "938/938 [==============================] - 1s 1ms/step - loss: 0.0033 - accuracy: 0.9988\n",
      "Epoch 64/100\n",
      "938/938 [==============================] - 1s 1ms/step - loss: 0.0037 - accuracy: 0.9991\n",
      "Epoch 65/100\n",
      "938/938 [==============================] - 1s 2ms/step - loss: 0.0064 - accuracy: 0.9981\n",
      "Epoch 66/100\n",
      "938/938 [==============================] - 1s 1ms/step - loss: 0.0014 - accuracy: 0.9995\n",
      "Epoch 67/100\n",
      "938/938 [==============================] - 1s 2ms/step - loss: 0.0025 - accuracy: 0.9992\n",
      "Epoch 68/100\n",
      "938/938 [==============================] - 1s 1ms/step - loss: 0.0041 - accuracy: 0.9989\n",
      "Epoch 69/100\n",
      "938/938 [==============================] - 1s 1ms/step - loss: 0.0042 - accuracy: 0.9988\n",
      "Epoch 70/100\n",
      "938/938 [==============================] - 1s 1ms/step - loss: 0.0026 - accuracy: 0.9993\n",
      "Epoch 71/100\n",
      "938/938 [==============================] - 1s 1ms/step - loss: 0.0030 - accuracy: 0.9991\n",
      "Epoch 72/100\n",
      "938/938 [==============================] - 1s 2ms/step - loss: 0.0055 - accuracy: 0.9985\n",
      "Epoch 73/100\n",
      "938/938 [==============================] - 1s 1ms/step - loss: 0.0023 - accuracy: 0.9993\n",
      "Epoch 74/100\n",
      "938/938 [==============================] - 1s 1ms/step - loss: 0.0044 - accuracy: 0.9988\n",
      "Epoch 75/100\n",
      "938/938 [==============================] - 1s 2ms/step - loss: 0.0036 - accuracy: 0.9989\n",
      "Epoch 76/100\n",
      "938/938 [==============================] - 1s 2ms/step - loss: 0.0034 - accuracy: 0.9990\n",
      "Epoch 77/100\n",
      "938/938 [==============================] - 1s 2ms/step - loss: 0.0027 - accuracy: 0.9993\n",
      "Epoch 78/100\n",
      "938/938 [==============================] - 1s 2ms/step - loss: 0.0067 - accuracy: 0.9984\n",
      "Epoch 79/100\n",
      "938/938 [==============================] - 1s 1ms/step - loss: 0.0027 - accuracy: 0.9992\n",
      "Epoch 80/100\n",
      "938/938 [==============================] - 1s 1ms/step - loss: 0.0010 - accuracy: 0.9997\n",
      "Epoch 81/100\n",
      "938/938 [==============================] - 1s 2ms/step - loss: 0.0042 - accuracy: 0.9989\n",
      "Epoch 82/100\n",
      "938/938 [==============================] - 1s 2ms/step - loss: 0.0034 - accuracy: 0.9991\n",
      "Epoch 83/100\n",
      "938/938 [==============================] - 1s 2ms/step - loss: 0.0037 - accuracy: 0.9989\n",
      "Epoch 84/100\n",
      "938/938 [==============================] - 1s 2ms/step - loss: 0.0037 - accuracy: 0.9991\n",
      "Epoch 85/100\n",
      "938/938 [==============================] - 1s 2ms/step - loss: 0.0030 - accuracy: 0.9991\n",
      "Epoch 86/100\n",
      "938/938 [==============================] - 1s 2ms/step - loss: 0.0036 - accuracy: 0.9990\n",
      "Epoch 87/100\n",
      "938/938 [==============================] - 1s 2ms/step - loss: 0.0021 - accuracy: 0.9994\n",
      "Epoch 88/100\n",
      "938/938 [==============================] - 1s 2ms/step - loss: 0.0024 - accuracy: 0.9993\n",
      "Epoch 89/100\n",
      "938/938 [==============================] - 1s 1ms/step - loss: 0.0069 - accuracy: 0.9985\n",
      "Epoch 90/100\n",
      "938/938 [==============================] - 1s 1ms/step - loss: 0.0019 - accuracy: 0.9995\n",
      "Epoch 91/100\n",
      "938/938 [==============================] - 1s 2ms/step - loss: 0.0033 - accuracy: 0.9992\n",
      "Epoch 92/100\n",
      "938/938 [==============================] - 1s 2ms/step - loss: 0.0023 - accuracy: 0.9993\n",
      "Epoch 93/100\n",
      "938/938 [==============================] - 1s 1ms/step - loss: 0.0074 - accuracy: 0.9981\n",
      "Epoch 94/100\n",
      "938/938 [==============================] - 1s 1ms/step - loss: 9.6734e-04 - accuracy: 0.9997\n",
      "Epoch 95/100\n",
      "938/938 [==============================] - 1s 1ms/step - loss: 0.0017 - accuracy: 0.9994\n",
      "Epoch 96/100\n",
      "938/938 [==============================] - 1s 2ms/step - loss: 0.0039 - accuracy: 0.9990\n",
      "Epoch 97/100\n",
      "938/938 [==============================] - 1s 2ms/step - loss: 0.0042 - accuracy: 0.9988\n",
      "Epoch 98/100\n",
      "938/938 [==============================] - 1s 1ms/step - loss: 0.0034 - accuracy: 0.9991\n",
      "Epoch 99/100\n",
      "938/938 [==============================] - 1s 2ms/step - loss: 0.0024 - accuracy: 0.9994\n",
      "Epoch 100/100\n",
      "938/938 [==============================] - 1s 2ms/step - loss: 0.0038 - accuracy: 0.9991\n"
     ]
    }
   ],
   "source": [
    "# Start to train the model\n",
    "EPOCHS = 100\n",
    "history = model.fit(training_batches, epochs = EPOCHS)"
   ]
  },
  {
   "cell_type": "code",
   "execution_count": 16,
   "metadata": {},
   "outputs": [
    {
     "name": "stdout",
     "output_type": "stream",
     "text": [
      "2/2 [==============================] - 0s 2ms/step - loss: 0.0432 - accuracy: 0.9688\n",
      "\n",
      "Loss after training: 0.043\n",
      "Accuracy after training: 96.875%\n"
     ]
    }
   ],
   "source": [
    "# Calculate loss and accuracy after training\n",
    "for image_batch, label_batch in training_batches.take(1):\n",
    "    loss, accuracy = model.evaluate(image_batch, label_batch)\n",
    "\n",
    "print('\\nLoss after training: {:,.3f}'.format(loss))\n",
    "print('Accuracy after training: {:.3%}'.format(accuracy))"
   ]
  },
  {
   "cell_type": "code",
   "execution_count": 18,
   "metadata": {},
   "outputs": [
    {
     "name": "stdout",
     "output_type": "stream",
     "text": [
      "2/2 [==============================] - 0s 2ms/step\n"
     ]
    },
    {
     "data": {
      "image/png": "[encoded data removed]",
      "text/plain": [
       "<Figure size 432x648 with 2 Axes>"
      ]
     },
     "metadata": {
      "image/png": {
       "height": 235,
       "width": 424
      },
      "needs_background": "light"
     },
     "output_type": "display_data"
    }
   ],
   "source": [
    "# Test the model\n",
    "for image_batch, label_batch in testing_batches.take(1):\n",
    "    ps = model.predict(image_batch)\n",
    "    first_image = image_batch.numpy().squeeze()[0]\n",
    "  \n",
    "  \n",
    "fig, (ax1, ax2) = plt.subplots(figsize=(6,9), ncols=2)\n",
    "ax1.imshow(first_image, cmap = plt.cm.binary)\n",
    "ax1.axis('off')\n",
    "ax2.barh(np.arange(10), ps[0])\n",
    "ax2.set_aspect(0.1)\n",
    "ax2.set_yticks(np.arange(10))\n",
    "ax2.set_yticklabels(np.arange(10))\n",
    "ax2.set_title('Class Probability')\n",
    "ax2.set_xlim(0, 1.1)\n",
    "plt.tight_layout()"
   ]
  },
  {
   "cell_type": "code",
   "execution_count": null,
   "metadata": {},
   "outputs": [],
   "source": []
  }
 ],
 "metadata": {
  "kernelspec": {
   "display_name": "Python 3.8.9 64-bit",
   "language": "python",
   "name": "python3"
  },
  "language_info": {
   "codemirror_mode": {
    "name": "ipython",
    "version": 3
   },
   "file_extension": ".py",
   "mimetype": "text/x-python",
   "name": "python",
   "nbconvert_exporter": "python",
   "pygments_lexer": "ipython3",
   "version": "3.8.9"
  },
  "vscode": {
   "interpreter": {
    "hash": "31f2aee4e71d21fbe5cf8b01ff0e069b9275f58929596ceb00d14d90e3e16cd6"
   }
  }
 },
 "nbformat": 4,
 "nbformat_minor": 4
}

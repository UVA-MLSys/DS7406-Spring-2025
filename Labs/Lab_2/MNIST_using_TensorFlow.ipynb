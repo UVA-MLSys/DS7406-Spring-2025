{
  "cells": [
    {
      "cell_type": "markdown",
      "metadata": {
        "id": "TR3zoz5UJWSy"
      },
      "source": [
        "## Import Resources"
      ],
      "id": "TR3zoz5UJWSy"
    },
    {
      "cell_type": "code",
      "execution_count": null,
      "metadata": {
        "id": "Bu8BeQvYJWSz"
      },
      "outputs": [],
      "source": [
        "import warnings\n",
        "warnings.filterwarnings('ignore')"
      ],
      "id": "Bu8BeQvYJWSz"
    },
    {
      "cell_type": "code",
      "execution_count": null,
      "metadata": {
        "id": "Vld2psNdJWS0"
      },
      "outputs": [],
      "source": [
        "%matplotlib inline\n",
        "%config InlineBackend.figure_format = 'retina'\n",
        "\n",
        "import numpy as np\n",
        "import matplotlib.pyplot as plt\n",
        "\n",
        "import tensorflow as tf\n",
        "import tensorflow_datasets as tfds\n",
        "tfds.disable_progress_bar()"
      ],
      "id": "Vld2psNdJWS0"
    },
    {
      "cell_type": "code",
      "execution_count": null,
      "metadata": {
        "id": "GVw5Hc9HJWS0"
      },
      "outputs": [],
      "source": [
        "import logging\n",
        "logger = tf.get_logger()\n",
        "logger.setLevel(logging.ERROR)"
      ],
      "id": "GVw5Hc9HJWS0"
    },
    {
      "cell_type": "markdown",
      "metadata": {
        "id": "4IHTI4iJJWS1"
      },
      "source": [
        "## Load the Data"
      ],
      "id": "4IHTI4iJJWS1"
    },
    {
      "cell_type": "code",
      "execution_count": null,
      "metadata": {
        "id": "d4SVzQS7JWS1",
        "outputId": "97a753d3-eb58-41a5-8b7e-4fecff0dc821"
      },
      "outputs": [
        {
          "name": "stdout",
          "output_type": "stream",
          "text": [
            "\u001b[1mDownloading and preparing dataset mnist (11.06 MiB) to /root/tensorflow_datasets/mnist/1.0.0...\u001b[0m\n"
          ]
        },
        {
          "name": "stderr",
          "output_type": "stream",
          "text": [
            "WARNING:absl:Warning: Setting shuffle_files=True because split=TRAIN and shuffle_files=None. This behavior will be deprecated on 2019-08-06, at which point shuffle_files=False will be the default for all splits.\n"
          ]
        },
        {
          "name": "stdout",
          "output_type": "stream",
          "text": [
            "\u001b[1mDataset mnist downloaded and prepared to /root/tensorflow_datasets/mnist/1.0.0. Subsequent calls will reuse this data.\u001b[0m\n"
          ]
        }
      ],
      "source": [
        "# Pipline of transformation\n",
        "#transform = transforms.Compose([transforms.ToTensor(),\n",
        "\n",
        "training_set, dataset_info = tfds.load('mnist', split='train', as_supervised = True, with_info = True)\n",
        "testing_set = tfds.load('mnist', split='test', as_supervised = True, with_info = False)"
      ],
      "id": "d4SVzQS7JWS1"
    },
    {
      "cell_type": "markdown",
      "metadata": {
        "id": "BgsQx92PJWS2"
      },
      "source": [
        "## Create Pipeline of Transformation"
      ],
      "id": "BgsQx92PJWS2"
    },
    {
      "cell_type": "code",
      "execution_count": null,
      "metadata": {
        "id": "H6KPz_umJWS3"
      },
      "outputs": [],
      "source": [
        "num_training_examples = dataset_info.splits['train'].num_examples\n",
        "num_testing_examples = dataset_info.splits['test'].num_examples"
      ],
      "id": "H6KPz_umJWS3"
    },
    {
      "cell_type": "code",
      "execution_count": null,
      "metadata": {
        "id": "u4TgNTNxJWS4"
      },
      "outputs": [],
      "source": [
        "def normalize(image, label):\n",
        "    image = tf.cast(image, tf.float32)\n",
        "    image /= 255\n",
        "    return image, label\n",
        "\n",
        "num_training_examples = dataset_info.splits['train'].num_examples\n",
        "\n",
        "batch_size = 64\n",
        "\n",
        "training_batches = training_set.cache().shuffle(num_training_examples//4).batch(batch_size).map(normalize).prefetch(1)\n",
        "testing_batches = testing_set.cache().shuffle(num_testing_examples//4).batch(batch_size).map(normalize).prefetch(1)"
      ],
      "id": "u4TgNTNxJWS4"
    },
    {
      "cell_type": "markdown",
      "metadata": {
        "id": "csSMDIUQJWS4"
      },
      "source": [
        "## Visualize a Batch of Training Data"
      ],
      "id": "csSMDIUQJWS4"
    },
    {
      "cell_type": "code",
      "execution_count": null,
      "metadata": {
        "id": "voU6SKEHJWS4",
        "outputId": "1434a903-fba4-44bd-a505-88247a9dfe6b"
      },
      "outputs": [
        {
          "data": {
            "image/png": "[encoded data removed]",
            "text/plain": [
              "<Figure size 432x288 with 2 Axes>"
            ]
          },
          "metadata": {
            "image/png": {
              "height": 248,
              "width": 305
            },
            "needs_background": "light"
          },
          "output_type": "display_data"
        },
        {
          "name": "stdout",
          "output_type": "stream",
          "text": [
            "The label of this image is: 8\n"
          ]
        }
      ],
      "source": [
        "for image, label in training_set.take(1):\n",
        "    image = image.numpy().squeeze()\n",
        "    label = label.numpy()\n",
        "    \n",
        "# Plot the image\n",
        "plt.imshow(image, cmap = plt.cm.binary)\n",
        "plt.colorbar()\n",
        "plt.show()\n",
        "\n",
        "print('The label of this image is:', label)"
      ],
      "id": "voU6SKEHJWS4"
    },
    {
      "cell_type": "markdown",
      "metadata": {
        "id": "vvsaw81KJWS5"
      },
      "source": [
        "### Method1: Subclassing with TensorFlow and Keras"
      ],
      "id": "vvsaw81KJWS5"
    },
    {
      "cell_type": "code",
      "execution_count": null,
      "metadata": {
        "id": "4TuEFjM5JWS6",
        "outputId": "664ff8ef-4c54-466c-a219-d7aa6906c0ec"
      },
      "outputs": [
        {
          "name": "stdout",
          "output_type": "stream",
          "text": [
            "Model: \"my__network\"\n",
            "_________________________________________________________________\n",
            "Layer (type)                 Output Shape              Param #   \n",
            "=================================================================\n",
            "flatten_1 (Flatten)          multiple                  0         \n",
            "_________________________________________________________________\n",
            "dense_3 (Dense)              multiple                  100480    \n",
            "_________________________________________________________________\n",
            "dense_4 (Dense)              multiple                  8256      \n",
            "_________________________________________________________________\n",
            "dense_5 (Dense)              multiple                  650       \n",
            "=================================================================\n",
            "Total params: 109,386\n",
            "Trainable params: 109,386\n",
            "Non-trainable params: 0\n",
            "_________________________________________________________________\n"
          ]
        }
      ],
      "source": [
        "class My_Network(tf.keras.Model):\n",
        "    def __init__(self, num_classes = 10):\n",
        "        super().__init__()\n",
        "        self.num_classes = num_classes\n",
        "    \n",
        "        self.input_layer = tf.keras.layers.Flatten()\n",
        "        self.hidden_1 = tf.keras.layers.Dense(128, activation = 'relu')\n",
        "        self.hidden_2 = tf.keras.layers.Dense(64, activation = 'relu')\n",
        "        self.output_layer = tf.keras.layers.Dense(self.num_classes, activation = 'softmax')\n",
        "    \n",
        "    def call(self, input_tensor):\n",
        "        x = self.input_layer(input_tensor)\n",
        "        x = self.hidden_1(x)\n",
        "        x = self.hidden_2(x)\n",
        "        x = self.output_layer(x)\n",
        "    \n",
        "        return x\n",
        "\n",
        "my_model_2 = My_Network()\n",
        "\n",
        "my_model_2.build((None, 28, 28, 1))\n",
        "\n",
        "my_model_2.summary()"
      ],
      "id": "4TuEFjM5JWS6"
    },
    {
      "cell_type": "code",
      "execution_count": null,
      "metadata": {
        "id": "t_mNjin1JWS8"
      },
      "outputs": [],
      "source": [
        "tf.keras.backend.clear_session()"
      ],
      "id": "t_mNjin1JWS8"
    },
    {
      "cell_type": "markdown",
      "metadata": {
        "id": "eTiGYFNsJWS9"
      },
      "source": [
        "### Method2:Using `tf.keras.Sequential`"
      ],
      "id": "eTiGYFNsJWS9"
    },
    {
      "cell_type": "code",
      "execution_count": null,
      "metadata": {
        "id": "FWegYI8VJWS9",
        "outputId": "fe66cd88-30ae-4357-bded-2bb6b720577c"
      },
      "outputs": [
        {
          "name": "stdout",
          "output_type": "stream",
          "text": [
            "Model: \"sequential\"\n",
            "_________________________________________________________________\n",
            "Layer (type)                 Output Shape              Param #   \n",
            "=================================================================\n",
            "flatten (Flatten)            (None, 784)               0         \n",
            "_________________________________________________________________\n",
            "dense (Dense)                (None, 128)               100480    \n",
            "_________________________________________________________________\n",
            "dense_1 (Dense)              (None, 64)                8256      \n",
            "_________________________________________________________________\n",
            "dense_2 (Dense)              (None, 10)                650       \n",
            "=================================================================\n",
            "Total params: 109,386\n",
            "Trainable params: 109,386\n",
            "Non-trainable params: 0\n",
            "_________________________________________________________________\n"
          ]
        }
      ],
      "source": [
        "model = tf.keras.Sequential([\n",
        "        tf.keras.layers.Flatten(input_shape = (28, 28, 1)),\n",
        "        tf.keras.layers.Dense(128, activation = 'relu'),\n",
        "        tf.keras.layers.Dense(64, activation = 'relu'),\n",
        "        tf.keras.layers.Dense(10, activation = 'softmax')\n",
        "])\n",
        "\n",
        "model.summary()"
      ],
      "id": "FWegYI8VJWS9"
    },
    {
      "cell_type": "markdown",
      "metadata": {
        "id": "AXlu0T4pJWS9"
      },
      "source": [
        "## Specifiy Optimizer, Loss function and Metrics"
      ],
      "id": "AXlu0T4pJWS9"
    },
    {
      "cell_type": "code",
      "execution_count": null,
      "metadata": {
        "id": "Faxs9n0IJWS9"
      },
      "outputs": [],
      "source": [
        "model.compile(optimizer='adam',\n",
        "              loss='sparse_categorical_crossentropy',\n",
        "              metrics=['accuracy'])"
      ],
      "id": "Faxs9n0IJWS9"
    },
    {
      "cell_type": "markdown",
      "metadata": {
        "id": "AusYOhm9JWS-"
      },
      "source": [
        "## Train the Model\n"
      ],
      "id": "AusYOhm9JWS-"
    },
    {
      "cell_type": "code",
      "execution_count": null,
      "metadata": {
        "id": "EVxGQOFrJWS-",
        "outputId": "7df95a6a-a6d0-4f54-cfb0-2f3c246b7ae5"
      },
      "outputs": [
        {
          "name": "stdout",
          "output_type": "stream",
          "text": [
            "Epoch 1/5\n",
            "938/938 [==============================] - 21s 23ms/step - loss: 0.2818 - accuracy: 0.9191\n",
            "Epoch 2/5\n",
            "938/938 [==============================] - 3s 3ms/step - loss: 0.1168 - accuracy: 0.9648\n",
            "Epoch 3/5\n",
            "938/938 [==============================] - 3s 3ms/step - loss: 0.0801 - accuracy: 0.9750\n",
            "Epoch 4/5\n",
            "938/938 [==============================] - 3s 3ms/step - loss: 0.0597 - accuracy: 0.9811\n",
            "Epoch 5/5\n",
            "938/938 [==============================] - 3s 3ms/step - loss: 0.0475 - accuracy: 0.9851\n"
          ]
        }
      ],
      "source": [
        "EPOCHS = 5\n",
        "\n",
        "history = model.fit(training_batches, epochs = EPOCHS)"
      ],
      "id": "EVxGQOFrJWS-"
    },
    {
      "cell_type": "code",
      "execution_count": null,
      "metadata": {
        "id": "f0dtU1SKJWS-",
        "outputId": "0a65876f-8167-4191-c436-0fbe5b516ad1"
      },
      "outputs": [
        {
          "name": "stdout",
          "output_type": "stream",
          "text": [
            "64/1 [================================================================================================================================================================================================================================================================================================================================================================================================================================================================================================================================================================================================================================================================================================================================================================================================================================================================================================================================================================================================================================================================================================================================================================================================================================================================================================================================================================================================================================================================================================================================================================================================================================================================================================================================================================================================================================================================================================================================================================================================] - 0s 60us/sample - loss: 0.0180 - accuracy: 0.9844\n",
            "\n",
            "Loss after training: 0.034\n",
            "Accuracy after training: 98.438%\n"
          ]
        }
      ],
      "source": [
        "for image_batch, label_batch in training_batches.take(1):\n",
        "    loss, accuracy = model.evaluate(image_batch, label_batch)\n",
        "\n",
        "print('\\nLoss after training: {:,.3f}'.format(loss))\n",
        "print('Accuracy after training: {:.3%}'.format(accuracy))"
      ],
      "id": "f0dtU1SKJWS-"
    },
    {
      "cell_type": "markdown",
      "metadata": {
        "id": "LUc2aGC5JWS_"
      },
      "source": [
        "## Test the Model"
      ],
      "id": "LUc2aGC5JWS_"
    },
    {
      "cell_type": "code",
      "execution_count": null,
      "metadata": {
        "id": "bx3-rwd8JWS_",
        "outputId": "470047d8-8551-43f0-e37d-7b2923aa0b64"
      },
      "outputs": [
        {
          "data": {
            "image/png": "[encoded data removed]",
            "text/plain": [
              "<Figure size 432x648 with 2 Axes>"
            ]
          },
          "metadata": {
            "image/png": {
              "height": 235,
              "width": 424
            },
            "needs_background": "light"
          },
          "output_type": "display_data"
        }
      ],
      "source": [
        "for image_batch, label_batch in testing_batches.take(1):\n",
        "    ps = model.predict(image_batch)\n",
        "    first_image = image_batch.numpy().squeeze()[0]\n",
        "  \n",
        "  \n",
        "fig, (ax1, ax2) = plt.subplots(figsize=(6,9), ncols=2)\n",
        "ax1.imshow(first_image, cmap = plt.cm.binary)\n",
        "ax1.axis('off')\n",
        "ax2.barh(np.arange(10), ps[0])\n",
        "ax2.set_aspect(0.1)\n",
        "ax2.set_yticks(np.arange(10))\n",
        "ax2.set_yticklabels(np.arange(10))\n",
        "ax2.set_title('Class Probability')\n",
        "ax2.set_xlim(0, 1.1)\n",
        "plt.tight_layout()"
      ],
      "id": "bx3-rwd8JWS_"
    }
  ],
  "metadata": {
    "kernelspec": {
      "display_name": "Python 3",
      "language": "python",
      "name": "python3"
    },
    "language_info": {
      "codemirror_mode": {
        "name": "ipython",
        "version": 3
      },
      "file_extension": ".py",
      "mimetype": "text/x-python",
      "name": "python",
      "nbconvert_exporter": "python",
      "pygments_lexer": "ipython3",
      "version": "3.7.4"
    },
    "colab": {
      "provenance": []
    }
  },
  "nbformat": 4,
  "nbformat_minor": 5
}
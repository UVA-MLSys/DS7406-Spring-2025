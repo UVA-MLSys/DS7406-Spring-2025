{
  "cells": [
    {
      "cell_type": "markdown",
      "id": "wZDoTvbWJWh9",
      "metadata": {
        "id": "wZDoTvbWJWh9"
      },
      "source": [
        "# Import"
      ]
    },
    {
      "cell_type": "code",
      "execution_count": 1,
      "id": "3TP69Gb7JWh9",
      "metadata": {
        "id": "3TP69Gb7JWh9"
      },
      "outputs": [],
      "source": [
        "import torch\n",
        "from torch import nn\n",
        "import torch.nn.functional as F\n",
        "from torchvision import datasets, transforms\n",
        "from torch import optim\n",
        "from sklearn.metrics import accuracy_score, f1_score"
      ]
    },
    {
      "cell_type": "code",
      "execution_count": 2,
      "id": "0da289c5",
      "metadata": {},
      "outputs": [],
      "source": [
        "torch.manual_seed(42)\n",
        "device = torch.device(\"cuda\" if torch.cuda.is_available() else \"cpu\")"
      ]
    },
    {
      "cell_type": "markdown",
      "id": "dwC1839AJWh-",
      "metadata": {
        "id": "dwC1839AJWh-"
      },
      "source": [
        "# Load the Data"
      ]
    },
    {
      "cell_type": "code",
      "execution_count": 3,
      "id": "re3TvUbUJWh-",
      "metadata": {
        "id": "re3TvUbUJWh-"
      },
      "outputs": [],
      "source": [
        "# Pipline of transformation https://pytorch.org/vision/stable/transforms.html\n",
        "transform = transforms.Compose(\n",
        "  [transforms.ToTensor(),\n",
        "  transforms.Normalize((0.1307,), (0.3081,))]\n",
        "  )\n",
        "# Download and load the training data\n",
        "trainset = datasets.MNIST('~/.pytorch/MNIST_data/', download=True, train=True, transform=transform)\n",
        "trainloader = torch.utils.data.DataLoader(trainset, batch_size=64, shuffle=True)\n",
        "\n",
        "\n",
        "# Download and load the test data\n",
        "testset = datasets.MNIST('~/.pytorch/MNIST_data/', download=True, train=False, transform=transform)\n",
        "testloader = torch.utils.data.DataLoader(testset, batch_size=128, shuffle=False)"
      ]
    },
    {
      "cell_type": "markdown",
      "id": "xqY969p_JWh_",
      "metadata": {
        "id": "xqY969p_JWh_"
      },
      "source": [
        "## Visualize a Batch"
      ]
    },
    {
      "cell_type": "code",
      "execution_count": 4,
      "id": "_uxfB612JWh_",
      "metadata": {
        "colab": {
          "base_uri": "https://localhost:8080/",
          "height": 267
        },
        "id": "_uxfB612JWh_",
        "outputId": "68ccd681-5662-4087-a2ac-855f88c2d222"
      },
      "outputs": [
        {
          "data": {
            "image/png": "[encoded data removed]",
            "text/plain": [
              "<Figure size 2500x400 with 20 Axes>"
            ]
          },
          "metadata": {},
          "output_type": "display_data"
        }
      ],
      "source": [
        "import numpy as np\n",
        "import matplotlib.pyplot as plt\n",
        "%matplotlib inline\n",
        "    \n",
        "# obtain one batch of training images\n",
        "dataiter = iter(trainloader)\n",
        "images, labels = next(dataiter)\n",
        "images = images.numpy()\n",
        "\n",
        "# plot the images in the batch, along with the corresponding labels\n",
        "fig = plt.figure(figsize=(25, 4))\n",
        "for idx in np.arange(20):\n",
        "    ax = fig.add_subplot(2,10, idx+1, xticks=[], yticks=[])\n",
        "    ax.imshow(np.squeeze(images[idx]), cmap='gray')\n",
        "    # print out the correct label for each image\n",
        "    # .item() gets the value contained in a Tensor\n",
        "    ax.set_title(str(labels[idx].item()))"
      ]
    },
    {
      "cell_type": "markdown",
      "id": "C5PVNHwqJWiB",
      "metadata": {
        "id": "C5PVNHwqJWiB"
      },
      "source": [
        "# Model"
      ]
    },
    {
      "cell_type": "code",
      "execution_count": 5,
      "id": "16e845dd",
      "metadata": {},
      "outputs": [],
      "source": [
        "class DenseModel(nn.Module):\n",
        "    def __init__(self):\n",
        "        super(DenseModel, self).__init__()\n",
        "        self.fc1 = nn.Linear(784, 128)\n",
        "        self.fc2 = nn.Linear(128, 64)\n",
        "        self.fc3 = nn.Linear(64, 10)\n",
        "        self.dropout1 = nn.Dropout(0.2)\n",
        "        self.dropout2 = nn.Dropout(0.5)\n",
        "        \n",
        "    def forward(self, x):\n",
        "        x = x.view(x.shape[0], -1)\n",
        "        x = self.fc1(x)\n",
        "        x = self.dropout1(F.relu(x))\n",
        "        x = self.fc2(x)\n",
        "        x = self.dropout1(F.relu(x))\n",
        "        x = self.fc3(x)\n",
        "        x = F.log_softmax(x, dim=1)\n",
        "        \n",
        "        return x"
      ]
    },
    {
      "cell_type": "code",
      "execution_count": 23,
      "id": "611f86de",
      "metadata": {},
      "outputs": [],
      "source": [
        "class CNNModel(nn.Module):\n",
        "    def __init__(self):\n",
        "        super(CNNModel, self).__init__()\n",
        "        self.conv1 = nn.Conv2d(1, 32, 3, 1)\n",
        "        self.conv2 = nn.Conv2d(32, 64, 3, 1)\n",
        "        self.dropout1 = nn.Dropout(0.2)\n",
        "        self.dropout2 = nn.Dropout(0.5)\n",
        "        self.fc1 = nn.Linear(9216, 128)\n",
        "        self.fc2 = nn.Linear(128, 10)\n",
        "\n",
        "    def forward(self, x):\n",
        "        x = self.conv1(x)\n",
        "        x = F.relu(x)\n",
        "        x = self.conv2(x)\n",
        "        x = F.relu(x)\n",
        "        x = F.max_pool2d(x, 2)\n",
        "        x = self.dropout1(x)\n",
        "        x = torch.flatten(x, 1)\n",
        "        x = self.fc1(x)\n",
        "        x = F.relu(x)\n",
        "        x = self.dropout2(x)\n",
        "        x = self.fc2(x)\n",
        "        output = F.log_softmax(x, dim=1)\n",
        "        return output"
      ]
    },
    {
      "cell_type": "markdown",
      "id": "CY5ld3nCJWiB",
      "metadata": {
        "id": "CY5ld3nCJWiB"
      },
      "source": [
        "## Initialize"
      ]
    },
    {
      "cell_type": "code",
      "execution_count": 26,
      "id": "407fc93b",
      "metadata": {},
      "outputs": [],
      "source": [
        "# Train the network here\n",
        "model = CNNModel().to(device)\n",
        "criterion = nn.CrossEntropyLoss() # nn.NLLLoss()\n",
        "optimizer = optim.Adam(model.parameters(), lr=0.01)"
      ]
    },
    {
      "cell_type": "markdown",
      "id": "2LS0djTHJWiC",
      "metadata": {
        "id": "2LS0djTHJWiC"
      },
      "source": [
        "## Train\n",
        "\n",
        "The steps for training/learning from a batch of data are described in the comments below:\n",
        "\n",
        "* Clear the gradients of all optimized variables\n",
        "* Forward pass: compute predicted outputs by passing inputs to the model\n",
        "* Use the logits to calculate the loss\n",
        "* Backward pass: compute gradient of the loss with respect to model parameters\n",
        "* Perform a single optimization step (parameter update)\n",
        "\n"
      ]
    },
    {
      "cell_type": "markdown",
      "id": "51f2d002",
      "metadata": {},
      "source": [
        "### Utils"
      ]
    },
    {
      "cell_type": "code",
      "execution_count": 8,
      "id": "23daabe8",
      "metadata": {},
      "outputs": [],
      "source": [
        "def test(model, device, test_loader):\n",
        "    model.eval()\n",
        "    targets, labels = [], []\n",
        "    with torch.no_grad():\n",
        "        for data, target in test_loader:\n",
        "            data, target = data.to(device), target.to(device)\n",
        "            output = model(data)\n",
        "            pred = output.argmax(dim=1)\n",
        "            \n",
        "            targets.extend(target.detach().cpu().numpy())\n",
        "            labels.extend(pred.detach().cpu().numpy())\n",
        "            \n",
        "    acc, f1 = accuracy_score(targets, labels), f1_score(targets, labels, average='macro')\n",
        "    return acc, f1"
      ]
    },
    {
      "cell_type": "code",
      "execution_count": 9,
      "id": "b1e4cb58",
      "metadata": {},
      "outputs": [],
      "source": [
        "def validation(model, device, val_loader, criterion):\n",
        "    model.eval()\n",
        "    val_loss = 0\n",
        "    with torch.no_grad():\n",
        "        for data, target in val_loader:\n",
        "            data, target = data.to(device), target.to(device)\n",
        "            output = model(data)\n",
        "            val_loss += criterion(output, target).item()  # sum up batch loss\n",
        "            \n",
        "    return val_loss"
      ]
    },
    {
      "cell_type": "code",
      "execution_count": 10,
      "id": "b2e891c6",
      "metadata": {},
      "outputs": [],
      "source": [
        "def train(model, device, train_loader, optimizer, epoch, criterion):\n",
        "    model.train()\n",
        "    preds, labels = [], []\n",
        "    train_loss = 0\n",
        "    \n",
        "    for _, (data, target) in enumerate(train_loader):\n",
        "        data, target = data.to(device), target.to(device)\n",
        "        optimizer.zero_grad()\n",
        "        output = model(data)\n",
        "        loss = criterion(output, target)\n",
        "        loss.backward()\n",
        "        optimizer.step()\n",
        "        \n",
        "        preds.extend(output.argmax(dim=1).detach().cpu().numpy())\n",
        "        labels.extend(target.detach().cpu().numpy())\n",
        "        train_loss += loss.item()\n",
        "        \n",
        "    acc, f1 = accuracy_score(labels, preds), f1_score(labels, preds, average='macro')\n",
        "    print(f\"Epoch: {epoch}, Training loss: {train_loss:.3f}, Accuracy: {acc:.3f}, F1: {f1:.3f}\")\n",
        "    \n",
        "    return train_loss"
      ]
    },
    {
      "cell_type": "markdown",
      "id": "12073af1",
      "metadata": {},
      "source": [
        "### Train"
      ]
    },
    {
      "cell_type": "code",
      "execution_count": 25,
      "id": "FC1y4NHkJWiC",
      "metadata": {
        "colab": {
          "base_uri": "https://localhost:8080/"
        },
        "id": "FC1y4NHkJWiC",
        "outputId": "8148036f-977c-4478-84e2-e048a3c599dd"
      },
      "outputs": [
        {
          "name": "stdout",
          "output_type": "stream",
          "text": [
            "Epoch: 0, Training loss: 524.709, Accuracy: 0.826, F1: 0.823\n",
            "Epoch: 0, Validation loss: 37.711\n",
            "Epoch: 1, Training loss: 360.096, Accuracy: 0.883, F1: 0.881\n",
            "Epoch: 1, Validation loss: 23.677\n",
            "Epoch: 2, Training loss: 274.671, Accuracy: 0.910, F1: 0.909\n",
            "Epoch: 2, Validation loss: 18.441\n",
            "Epoch: 3, Training loss: 224.223, Accuracy: 0.927, F1: 0.926\n",
            "Epoch: 3, Validation loss: 15.225\n",
            "Epoch: 4, Training loss: 211.732, Accuracy: 0.933, F1: 0.932\n",
            "Epoch: 4, Validation loss: 14.856\n",
            "Epoch: 5, Training loss: 206.249, Accuracy: 0.934, F1: 0.934\n",
            "Epoch: 5, Validation loss: 13.330\n",
            "Epoch: 6, Training loss: 199.847, Accuracy: 0.936, F1: 0.935\n",
            "Epoch: 6, Validation loss: 14.202\n",
            "Epoch: 7, Training loss: 196.381, Accuracy: 0.938, F1: 0.938\n",
            "Epoch: 7, Validation loss: 14.208\n",
            "Epoch: 8, Training loss: 201.655, Accuracy: 0.936, F1: 0.935\n",
            "Epoch: 8, Validation loss: 12.687\n",
            "Epoch: 9, Training loss: 186.881, Accuracy: 0.940, F1: 0.940\n",
            "Epoch: 9, Validation loss: 15.375\n",
            "Testing\n",
            "Test accuracy: 0.970, F1: 0.969\n"
          ]
        }
      ],
      "source": [
        "epochs = 10\n",
        "model.to(device)\n",
        "for e in range(epochs):\n",
        "    train(model, device, trainloader, optimizer, e, criterion)\n",
        "    val_loss = validation(model, device, testloader, criterion)\n",
        "    print(f\"Epoch: {e}, Validation loss: {val_loss:.3f}\")\n",
        " \n",
        "print('Testing')   \n",
        "acc, f1 = test(model, device, testloader)\n",
        "print(f\"Test accuracy: {acc:.3f}, F1: {f1:.3f}\")"
      ]
    },
    {
      "cell_type": "markdown",
      "id": "jYG7JSoEJWiC",
      "metadata": {
        "id": "jYG7JSoEJWiC"
      },
      "source": [
        "# Visualize prediction"
      ]
    },
    {
      "cell_type": "code",
      "execution_count": 12,
      "id": "GLL7YVW3Mv9H",
      "metadata": {
        "id": "GLL7YVW3Mv9H"
      },
      "outputs": [],
      "source": [
        "import matplotlib.pyplot as plt\n",
        "import numpy as np\n",
        "\n",
        "def imshow(image, ax=None, title=None):\n",
        "    \"\"\"Imshow for Tensor.\"\"\"\n",
        "    if ax is None:\n",
        "        fig, ax = plt.subplots()\n",
        "    image = image.transpose((1, 2, 0))\n",
        "\n",
        "    ax.imshow(image)\n",
        "    ax.spines['top'].set_visible(False)\n",
        "    ax.spines['right'].set_visible(False)\n",
        "    ax.spines['left'].set_visible(False)\n",
        "    ax.spines['bottom'].set_visible(False)\n",
        "    ax.tick_params(axis='both', length=0)\n",
        "    ax.set_xticklabels('')\n",
        "    ax.set_yticklabels('')\n",
        "\n",
        "    return ax\n",
        "\n",
        "def view_classify(img, ps, version=\"MNIST\"):\n",
        "    ''' Function for viewing an image and it's predicted classes.\n",
        "    '''\n",
        "    # ps = ps.data.numpy().squeeze()\n",
        "\n",
        "    fig, (ax1, ax2) = plt.subplots(figsize=(6,9), ncols=2)\n",
        "    # ax1.imshow(img.resize_(1, 28, 28).numpy().squeeze())\n",
        "    ax1.imshow(img.transpose((1, 2, 0)))\n",
        "    ax1.axis('off')\n",
        "    ax2.barh(np.arange(10), ps)\n",
        "    ax2.set_aspect(0.1)\n",
        "    ax2.set_yticks(np.arange(10))\n",
        "    ax2.set_yticklabels(np.arange(10))\n",
        "    ax2.set_title('Class Probability')\n",
        "    ax2.set_xlim(0, 1.1)\n",
        "\n",
        "    plt.tight_layout()"
      ]
    },
    {
      "cell_type": "code",
      "execution_count": 28,
      "id": "S_2wNzZbJWiD",
      "metadata": {
        "colab": {
          "base_uri": "https://localhost:8080/",
          "height": 252
        },
        "id": "S_2wNzZbJWiD",
        "outputId": "6047f7af-c3d9-4815-82b9-209c268e4404"
      },
      "outputs": [
        {
          "data": {
            "image/png": "[encoded data removed]",
            "text/plain": [
              "<Figure size 600x900 with 2 Axes>"
            ]
          },
          "metadata": {},
          "output_type": "display_data"
        }
      ],
      "source": [
        "images, labels = next(iter(testloader))\n",
        "\n",
        "images = images.to(device)\n",
        "# Turn off gradients to speed up this part\n",
        "with torch.no_grad():\n",
        "    # exp because the last layer is log softmax\n",
        "    output = torch.exp(model.forward(images))\n",
        "\n",
        "images = images.detach().cpu().numpy()\n",
        "output = output.detach().cpu().numpy()\n",
        "view_classify(images[0], output[0])"
      ]
    }
  ],
  "metadata": {
    "accelerator": "GPU",
    "colab": {
      "machine_shape": "hm",
      "provenance": []
    },
    "gpuClass": "standard",
    "kernelspec": {
      "display_name": "Python 3",
      "language": "python",
      "name": "python3"
    },
    "language_info": {
      "codemirror_mode": {
        "name": "ipython",
        "version": 3
      },
      "file_extension": ".py",
      "mimetype": "text/x-python",
      "name": "python",
      "nbconvert_exporter": "python",
      "pygments_lexer": "ipython3",
      "version": "3.10.11"
    }
  },
  "nbformat": 4,
  "nbformat_minor": 5
}
